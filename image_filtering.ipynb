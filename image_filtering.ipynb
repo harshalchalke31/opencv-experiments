{
 "cells": [
  {
   "cell_type": "markdown",
   "metadata": {},
   "source": [
    "## Dependencies"
   ]
  },
  {
   "cell_type": "code",
   "execution_count": 3,
   "metadata": {},
   "outputs": [],
   "source": [
    "import cv2\n",
    "import matplotlib.pyplot as plt\n",
    "import numpy as np\n",
    "\n",
    "PREVIEW=0\n",
    "BLUR = 1\n",
    "FEATURES = 2\n",
    "CANNY_EDGES = 3\n",
    "\n",
    "feature_params = dict(maxCorners = 1000,\n",
    "                      qualityLevel = 0.2,\n",
    "                      minDistance = 10,\n",
    "                      blockSize = 10)\n",
    "\n",
    "image_filter = 0\n",
    "window_name = 'Camera Filters'\n",
    "\n",
    "cv2.namedWindow(window_name,cv2.WINDOW_NORMAL)\n",
    "result = None\n"
   ]
  },
  {
   "cell_type": "markdown",
   "metadata": {},
   "source": [
    "## Image filtering"
   ]
  },
  {
   "cell_type": "code",
   "execution_count": 4,
   "metadata": {},
   "outputs": [],
   "source": [
    "source = cv2.VideoCapture(0)\n",
    "alive = True\n",
    "while alive:\n",
    "    has_frame, frame = source.read()\n",
    "    if not has_frame:\n",
    "        break\n",
    "    frame = cv2.flip(frame,1)\n",
    "\n",
    "    if image_filter==CANNY_EDGES:\n",
    "        result = cv2.Canny(image=frame,threshold1=60,threshold2=170)\n",
    "    elif image_filter==BLUR:\n",
    "        result = cv2.blur(frame,(3,13)) # box kernel dimensions\n",
    "    elif image_filter==FEATURES:\n",
    "        result = frame\n",
    "        frame_gray = cv2.cvtColor(frame,cv2.COLOR_BGR2GRAY)\n",
    "        corners = cv2.goodFeaturesToTrack(frame_gray,**feature_params)\n",
    "        if corners is not None:\n",
    "            for x,y in np.float32(corners).reshape(-1,2):\n",
    "                cv2.circle(img=result,center=(int(x),int(y)),radius=10,color=(0,255,0),thickness=1)  \n",
    "\n",
    "    else:\n",
    "        result=frame\n",
    "\n",
    "    cv2.imshow(window_name,result)\n",
    "\n",
    "    key = cv2.waitKey(1)\n",
    "    if key == ord('Q') or key == ord('q') or key == 27:\n",
    "        alive = False\n",
    "    elif key == ord('C') or key == ord('c'):\n",
    "        image_filter = CANNY_EDGES\n",
    "    elif key == ord('B') or key == ord('b'):\n",
    "        image_filter = BLUR\n",
    "    elif key == ord('F') or key == ord('f'):\n",
    "        image_filter = FEATURES\n",
    "    elif key == ord('P') or key == ord('p'):\n",
    "        image_filter = PREVIEW\n",
    "\n",
    "\n",
    "source.release()\n",
    "cv2.destroyAllWindows()\n"
   ]
  }
 ],
 "metadata": {
  "kernelspec": {
   "display_name": "mainenv",
   "language": "python",
   "name": "python3"
  },
  "language_info": {
   "codemirror_mode": {
    "name": "ipython",
    "version": 3
   },
   "file_extension": ".py",
   "mimetype": "text/x-python",
   "name": "python",
   "nbconvert_exporter": "python",
   "pygments_lexer": "ipython3",
   "version": "3.11.0"
  }
 },
 "nbformat": 4,
 "nbformat_minor": 2
}
